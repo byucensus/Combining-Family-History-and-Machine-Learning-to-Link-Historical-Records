{
 "cells": [
  {
   "cell_type": "code",
   "execution_count": 1,
   "metadata": {},
   "outputs": [],
   "source": [
    "from sklearn.model_selection import train_test_split\n",
    "import pandas as pd\n",
    "import os.path"
   ]
  },
  {
   "cell_type": "code",
   "execution_count": 2,
   "metadata": {},
   "outputs": [],
   "source": [
    "basePath = r'R:\\JoePriceResearch\\record_linking\\projects\\deep_learning\\paper_RR\\CensusTree_2020\\final'"
   ]
  },
  {
   "cell_type": "markdown",
   "metadata": {},
   "source": [
    "## Split 1900-1910"
   ]
  },
  {
   "cell_type": "code",
   "execution_count": 3,
   "metadata": {},
   "outputs": [],
   "source": [
    "loadPath = os.path.abspath(os.path.join(basePath, '1-gather_data', 'training_data_1900_1910.csv'))\n",
    "trainPath = os.path.abspath(os.path.join(basePath, '2-split_train_test', 'train_1900_1910.csv'))\n",
    "testPath = os.path.abspath(os.path.join(basePath, '2-split_train_test', 'test_1900_1910.csv'))\n",
    "data = pd.read_csv(loadPath)\n",
    "\n",
    "# Split into train and test sets.\n",
    "train, test = train_test_split(data, test_size=0.3)\n",
    "\n",
    "# Save the train and test sets.\n",
    "train.to_csv(trainPath, index=False)\n",
    "test.to_csv(testPath, index=False)"
   ]
  },
  {
   "cell_type": "markdown",
   "metadata": {},
   "source": [
    "## Split 1910-1920"
   ]
  },
  {
   "cell_type": "code",
   "execution_count": 4,
   "metadata": {},
   "outputs": [],
   "source": [
    "loadPath = os.path.abspath(os.path.join(basePath, '1-gather_data', 'training_data_1910_1920.csv'))\n",
    "trainPath = os.path.abspath(os.path.join(basePath, '2-split_train_test', 'train_1910_1920.csv'))\n",
    "testPath = os.path.abspath(os.path.join(basePath, '2-split_train_test', 'test_1910_1920.csv'))\n",
    "data = pd.read_csv(loadPath)\n",
    "\n",
    "# Split into train and test sets.\n",
    "train, test = train_test_split(data, test_size=0.3)\n",
    "\n",
    "# Save the train and test sets.\n",
    "train.to_csv(trainPath, index=False)\n",
    "test.to_csv(testPath, index=False)"
   ]
  },
  {
   "cell_type": "markdown",
   "metadata": {},
   "source": [
    "## Split 1900-1920"
   ]
  },
  {
   "cell_type": "code",
   "execution_count": 5,
   "metadata": {},
   "outputs": [],
   "source": [
    "loadPath = os.path.abspath(os.path.join(basePath, '1-gather_data', 'training_data_1900_1920.csv'))\n",
    "trainPath = os.path.abspath(os.path.join(basePath, '2-split_train_test', 'train_1900_1920.csv'))\n",
    "testPath = os.path.abspath(os.path.join(basePath, '2-split_train_test', 'test_1900_1920.csv'))\n",
    "data = pd.read_csv(loadPath)\n",
    "\n",
    "# Split into train and test sets.\n",
    "train, test = train_test_split(data, test_size=0.3)\n",
    "\n",
    "# Save the train and test sets.\n",
    "train.to_csv(trainPath, index=False)\n",
    "test.to_csv(testPath, index=False)"
   ]
  },
  {
   "cell_type": "code",
   "execution_count": null,
   "metadata": {},
   "outputs": [],
   "source": []
  }
 ],
 "metadata": {
  "kernelspec": {
   "display_name": "Python 3",
   "language": "python",
   "name": "python3"
  },
  "language_info": {
   "codemirror_mode": {
    "name": "ipython",
    "version": 3
   },
   "file_extension": ".py",
   "mimetype": "text/x-python",
   "name": "python",
   "nbconvert_exporter": "python",
   "pygments_lexer": "ipython3",
   "version": "3.7.6"
  }
 },
 "nbformat": 4,
 "nbformat_minor": 4
}
