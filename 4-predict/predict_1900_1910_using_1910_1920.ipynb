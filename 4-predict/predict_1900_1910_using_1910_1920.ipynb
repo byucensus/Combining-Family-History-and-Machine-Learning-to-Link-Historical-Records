{
 "cells": [
  {
   "cell_type": "code",
   "execution_count": 1,
   "metadata": {},
   "outputs": [],
   "source": [
    "import pandas as pd\n",
    "from splycer.blocker import BlockDB\n",
    "from splycer.record_set import RecordDB\n",
    "from splycer.pairs_set import PairsDB\n",
    "from splycer.feature_engineer import FeatureEngineer\n",
    "import recordlinkage as rl\n",
    "import pyodbc\n",
    "import numpy as np\n",
    "from xgboost import XGBClassifier\n",
    "from sklearn.metrics import confusion_matrix, precision_score, recall_score\n",
    "import pickle as pkl\n",
    "from tqdm import tqdm\n",
    "\n",
    "import turbodbc\n",
    "conn = turbodbc.connect('rec_db')"
   ]
  },
  {
   "cell_type": "code",
   "execution_count": 2,
   "metadata": {},
   "outputs": [],
   "source": [
    "# Load the model\n",
    "modelPath = r'R:\\JoePriceResearch\\record_linking\\projects\\deep_learning\\paper_RR\\CensusTree_2020\\final\\3-train_models\\model_1910_1920.dat'\n",
    "model = pkl.load(open(modelPath, \"rb\"))\n"
   ]
  },
  {
   "cell_type": "code",
   "execution_count": 3,
   "metadata": {},
   "outputs": [],
   "source": [
    "extra_join = ''\n",
    "sql1900 = RecordDB('compiled_1900','index','rec_db',extra_joins=extra_join)\n",
    "sql1910 = RecordDB('compiled_1910','index','rec_db',extra_joins=extra_join)\n",
    "\n",
    "def run( outfile, chunksize=1000000, logfile='log5.txt'):\n",
    "    \"\"\"Run the model on the full compare set, writing results to file.\"\"\"\n",
    "    total = 76000000\n",
    "    for i in tqdm(range(11000000,total,chunksize)):\n",
    "        print(\"start tqdm\")\n",
    "        \n",
    "        print(\"getting chunk1\")\n",
    "        cursor = conn.cursor()\n",
    "        \n",
    "        cursor.execute(f\"\"\"WITH curr AS (\n",
    "            SELECT * FROM compares_1900_1910 c19001910 WHERE c19001910.index1900 < {i+chunksize} AND c19001910.index1900 >= {i}\n",
    "            ) \n",
    "            SELECT DISTINCT \"index\" as index_,* FROM compiled_1900 where \"index\" in (SELECT index1900 FROM curr)\"\"\")\n",
    "        table = cursor.fetchallarrow()\n",
    "        rec1 = table.to_pandas().set_index('index')\n",
    "        \n",
    "        print(\"getting chunk2\")\n",
    "        cursor.execute(f\"\"\"WITH curr AS (\n",
    "            SELECT * FROM compares_1900_1910 c19001910 WHERE c19001910.index1900 < {i+chunksize} AND c19001910.index1900 >= {i}\n",
    "            ) \n",
    "            SELECT DISTINCT \"index\" as index_, * FROM compiled_1910 where \"index\" in (SELECT index1910 FROM curr)\"\"\")\n",
    "        table = cursor.fetchallarrow()\n",
    "        rec2 = table.to_pandas().set_index('index')\n",
    "     \n",
    "        print(\"getting pairs\")\n",
    "        cursor.execute(f\"\"\"SELECT * FROM compares_1900_1910 c19001910 WHERE c19001910.index1900 < {i+chunksize} AND c19001910.index1900 >= {i}\"\"\")\n",
    "        table = cursor.fetchallarrow()\n",
    "        pairs = pd.MultiIndex.from_frame(table.to_pandas())\n",
    "        pairs.names = ['','']\n",
    "\n",
    "\n",
    "        comp_vecs = c.compute(pairs, rec2, rec1)\n",
    "        comp_vecs.columns=['res','bp','first_jaro','last_jaro','birth_year','immigration','first_comm',\n",
    "           'last_comm','marstat','mbp','fbp','rel']\n",
    "                \n",
    "        print(\"predicting\")\n",
    "        preds = model.predict_proba(comp_vecs) # predict matches with model\n",
    "        print(\"Done predicting\")\n",
    "        \n",
    "\n",
    "        data = pd.DataFrame({'index1900':[item[1] for item in pairs.values],'index1910':[item[0] for item in pairs.values],'link_prob':preds[:,1]})\n",
    "        print(\"saving\")\n",
    "        data.to_csv(outfile,mode='a',header=None,index=False)\n",
    "     "
   ]
  },
  {
   "cell_type": "code",
   "execution_count": 4,
   "metadata": {},
   "outputs": [],
   "source": [
    "from recordlinkage.base import BaseCompareFeature\n",
    "\n",
    "class eucledian_distance(BaseCompareFeature):\n",
    "    def __init__(self, left_on, right_on):\n",
    "        super(eucledian_distance, self).__init__(left_on, right_on)\n",
    "        self.n = len(left_on)\n",
    "    def _compute_vectorized(self,*args):\n",
    "        s1 = args[:self.n]\n",
    "        s2 = args[self.n:]\n",
    "        return np.linalg.norm(np.array(s1)-np.array(s2),ord=2,axis=0)\n",
    "    \n",
    "class commonality_weight(BaseCompareFeature):\n",
    "    def __init__(self,left_on,right_on):\n",
    "        super(commonality_weight, self).__init__(left_on, right_on)\n",
    "    def _compute_vectorized(self,s1,s2):\n",
    "        return 1 / np.log1p((s1 + s2) / 2)\n",
    "    \n",
    "def get_compare_engine(drop=[]):\n",
    "    exact_match_features = ['marstat','mbp','fbp','rel','first_nysiis','last_nysiis']\n",
    "    exact_match_features = [feat for feat in exact_match_features if feat not in drop]\n",
    "    c = rl.Compare() # declare comparison object\n",
    "    if 'res' not in drop:\n",
    "        c.geo('res_lat','res_lon','res_lat','res_lon',method = 'exp',scale=500)\n",
    "    if 'bp' not in drop:\n",
    "        c.geo('bp_lat','bp_lon','bp_lat','bp_lon', method = 'exp',scale=500)\n",
    "    if 'first_jaro' not in drop:\n",
    "        c.string('first','first',method = 'jarowinkler')\n",
    "    if 'last_jaro' not in drop:\n",
    "        c.string('last','last', method = 'jarowinkler')\n",
    "    #c.string('first','first',method = 'qgram')\n",
    "    #c.string('last','last', method = 'qgram')\n",
    "    if 'birth_year' not in drop:\n",
    "        c.numeric('birth_year','birth_year', method = 'lin', scale = 1, offset = 1)\n",
    "    if 'immigration' not in drop:\n",
    "        c.numeric('immigration','immigration', method = 'lin', scale = 1, offset = 1)\n",
    "    \n",
    "    vec_cols = [f'occ_vec{i}' for i in range(128)]\n",
    "    if 'occ' not in drop:\n",
    "        c.add(eucledian_distance(vec_cols,vec_cols))\n",
    "    if 'comm_first' not in drop:\n",
    "        c.add(commonality_weight('first_comm','first_comm'))\n",
    "    if 'comm_last' not in drop:\n",
    "        c.add(commonality_weight('last_comm','last_comm'))    \n",
    "    for col in exact_match_features:\n",
    "        c.exact(col,col)\n",
    "    return c\n",
    "\n",
    "c = get_compare_engine(drop=['occ','first_nysiis','last_nysiis'])"
   ]
  },
  {
   "cell_type": "code",
   "execution_count": null,
   "metadata": {
    "scrolled": false
   },
   "outputs": [
    {
     "name": "stderr",
     "output_type": "stream",
     "text": [
      "\r",
      "  0%|                                                                                           | 0/65 [00:00<?, ?it/s]"
     ]
    },
    {
     "name": "stdout",
     "output_type": "stream",
     "text": [
      "start tqdm\n",
      "getting chunk1\n",
      "getting chunk2\n",
      "getting pairs\n",
      "predicting\n",
      "Done predicting\n",
      "saving\n"
     ]
    },
    {
     "name": "stderr",
     "output_type": "stream",
     "text": [
      "\r",
      "  2%|█▏                                                                              | 1/65 [02:18<2:27:35, 138.37s/it]"
     ]
    },
    {
     "name": "stdout",
     "output_type": "stream",
     "text": [
      "start tqdm\n",
      "getting chunk1\n",
      "getting chunk2\n",
      "getting pairs\n",
      "predicting\n",
      "Done predicting\n",
      "saving\n"
     ]
    },
    {
     "name": "stderr",
     "output_type": "stream",
     "text": [
      "\r",
      "  3%|██▍                                                                             | 2/65 [04:34<2:24:43, 137.83s/it]"
     ]
    },
    {
     "name": "stdout",
     "output_type": "stream",
     "text": [
      "start tqdm\n",
      "getting chunk1\n",
      "getting chunk2\n",
      "getting pairs\n",
      "predicting\n",
      "Done predicting\n",
      "saving\n"
     ]
    },
    {
     "name": "stderr",
     "output_type": "stream",
     "text": [
      "\r",
      "  5%|███▋                                                                            | 3/65 [06:41<2:18:48, 134.33s/it]"
     ]
    },
    {
     "name": "stdout",
     "output_type": "stream",
     "text": [
      "start tqdm\n",
      "getting chunk1\n",
      "getting chunk2\n",
      "getting pairs\n",
      "predicting\n",
      "Done predicting\n",
      "saving\n"
     ]
    },
    {
     "name": "stderr",
     "output_type": "stream",
     "text": [
      "\r",
      "  6%|████▉                                                                           | 4/65 [08:14<2:04:11, 122.15s/it]"
     ]
    },
    {
     "name": "stdout",
     "output_type": "stream",
     "text": [
      "start tqdm\n",
      "getting chunk1\n",
      "getting chunk2\n",
      "getting pairs\n",
      "predicting\n",
      "Done predicting\n",
      "saving\n"
     ]
    },
    {
     "name": "stderr",
     "output_type": "stream",
     "text": [
      "\r",
      "  8%|██████▏                                                                         | 5/65 [09:41<1:51:34, 111.57s/it]"
     ]
    },
    {
     "name": "stdout",
     "output_type": "stream",
     "text": [
      "start tqdm\n",
      "getting chunk1\n",
      "getting chunk2\n",
      "getting pairs\n",
      "predicting\n",
      "Done predicting\n",
      "saving\n"
     ]
    },
    {
     "name": "stderr",
     "output_type": "stream",
     "text": [
      "\r",
      "  9%|███████▍                                                                        | 6/65 [11:02<1:40:39, 102.37s/it]"
     ]
    },
    {
     "name": "stdout",
     "output_type": "stream",
     "text": [
      "start tqdm\n",
      "getting chunk1\n",
      "getting chunk2\n",
      "getting pairs\n",
      "predicting\n",
      "Done predicting\n",
      "saving\n"
     ]
    },
    {
     "name": "stderr",
     "output_type": "stream",
     "text": [
      "\r",
      " 11%|████████▋                                                                        | 7/65 [12:35<1:36:19, 99.65s/it]"
     ]
    },
    {
     "name": "stdout",
     "output_type": "stream",
     "text": [
      "start tqdm\n",
      "getting chunk1\n",
      "getting chunk2\n",
      "getting pairs\n",
      "predicting\n",
      "Done predicting\n",
      "saving\n"
     ]
    },
    {
     "name": "stderr",
     "output_type": "stream",
     "text": [
      "\r",
      " 12%|█████████▊                                                                      | 8/65 [14:18<1:35:36, 100.64s/it]"
     ]
    },
    {
     "name": "stdout",
     "output_type": "stream",
     "text": [
      "start tqdm\n",
      "getting chunk1\n",
      "getting chunk2\n",
      "getting pairs\n",
      "predicting\n",
      "Done predicting\n",
      "saving\n"
     ]
    },
    {
     "name": "stderr",
     "output_type": "stream",
     "text": [
      "\r",
      " 14%|███████████▏                                                                     | 9/65 [15:50<1:31:28, 98.01s/it]"
     ]
    },
    {
     "name": "stdout",
     "output_type": "stream",
     "text": [
      "start tqdm\n",
      "getting chunk1\n",
      "getting chunk2\n",
      "getting pairs\n",
      "predicting\n",
      "Done predicting\n",
      "saving\n"
     ]
    },
    {
     "name": "stderr",
     "output_type": "stream",
     "text": [
      "\r",
      " 15%|████████████▎                                                                   | 10/65 [17:12<1:25:18, 93.06s/it]"
     ]
    },
    {
     "name": "stdout",
     "output_type": "stream",
     "text": [
      "start tqdm\n",
      "getting chunk1\n",
      "getting chunk2\n",
      "getting pairs\n",
      "predicting\n",
      "Done predicting\n",
      "saving\n"
     ]
    },
    {
     "name": "stderr",
     "output_type": "stream",
     "text": [
      "\r",
      " 17%|█████████████▌                                                                  | 11/65 [18:38<1:22:02, 91.16s/it]"
     ]
    },
    {
     "name": "stdout",
     "output_type": "stream",
     "text": [
      "start tqdm\n",
      "getting chunk1\n",
      "getting chunk2\n",
      "getting pairs\n",
      "predicting\n",
      "Done predicting\n",
      "saving\n"
     ]
    },
    {
     "name": "stderr",
     "output_type": "stream",
     "text": [
      "\r",
      " 18%|██████████████▊                                                                 | 12/65 [19:53<1:15:59, 86.02s/it]"
     ]
    },
    {
     "name": "stdout",
     "output_type": "stream",
     "text": [
      "start tqdm\n",
      "getting chunk1\n",
      "getting chunk2\n",
      "getting pairs\n",
      "predicting\n",
      "Done predicting\n",
      "saving\n"
     ]
    },
    {
     "name": "stderr",
     "output_type": "stream",
     "text": [
      "\r",
      " 20%|████████████████                                                                | 13/65 [20:55<1:08:28, 79.01s/it]"
     ]
    },
    {
     "name": "stdout",
     "output_type": "stream",
     "text": [
      "start tqdm\n",
      "getting chunk1\n"
     ]
    }
   ],
   "source": [
    "blocked_pairs = PairsDB('compares_1900_1910',['index1900','index1910'],'rec_db')\n",
    "savePath = r\"V:\\FHSS-JoePriceResearch\\papers\\current\\Census_tree\\code\\4-predict\\predictions_1900_1910_using_1910_1920.csv\"\n",
    "run(savePath)"
   ]
  },
  {
   "cell_type": "code",
   "execution_count": null,
   "metadata": {},
   "outputs": [],
   "source": []
  },
  {
   "cell_type": "code",
   "execution_count": null,
   "metadata": {},
   "outputs": [],
   "source": []
  }
 ],
 "metadata": {
  "kernelspec": {
   "display_name": "Python 3",
   "language": "python",
   "name": "python3"
  },
  "language_info": {
   "codemirror_mode": {
    "name": "ipython",
    "version": 3
   },
   "file_extension": ".py",
   "mimetype": "text/x-python",
   "name": "python",
   "nbconvert_exporter": "python",
   "pygments_lexer": "ipython3",
   "version": "3.7.6"
  }
 },
 "nbformat": 4,
 "nbformat_minor": 4
}
